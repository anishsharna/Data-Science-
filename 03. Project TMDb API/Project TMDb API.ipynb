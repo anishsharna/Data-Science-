{
 "cells": [
  {
   "cell_type": "raw",
   "id": "a1e43965",
   "metadata": {},
   "source": [
    "Project Details\n",
    "Send Feedback\n",
    "For this project, we are using the TMDb (The Movie Database) API.\n",
    "TMDb API enables you to find out the latest information about TV Shows, Movies and the biggest names in entertainment sector for a marvelous and fun TV/Movie watching experience.\n",
    "\n",
    "TMDb documentation https://developers.themoviedb.org/3/getting-started/introduction\n",
    "\n",
    "After joining TMDb, you can easily generate a new developer API key using this https://www.themoviedb.org/settings/api/request\n",
    "\n",
    "Our Motivation for using TMDb API \n",
    "By collecting the data using TMDb API one can recommend TV Shows, Movies and all sorts of entertainment on the basis of user’s affinity to specific genres, actors, likes and dislikes.\n",
    "We can find details about upcoming TV Shows and Movies.\n",
    "We can find what is the most popular and/ or exclusive/new content at a given time.\n"
   ]
  },
  {
   "cell_type": "raw",
   "id": "62c569c7",
   "metadata": {},
   "source": [
    "TMDb 1.1\n",
    "Send Feedback\n",
    "Find the 'id' of the movie \"Andhadhun\" using TMDb API.\n",
    "Output Format:\n",
    "Print the id of the movie."
   ]
  },
  {
   "cell_type": "code",
   "execution_count": null,
   "id": "005bda41",
   "metadata": {},
   "outputs": [],
   "source": [
    "import requests\n",
    "# Write your code here\n",
    "param ={'api_key':'2cb4afec6c8216a515513fe07e411a97','query':'Andhadhun'}\n",
    "header={\"Accept\":\"application/json\"}\n",
    "response = requests.get(\"https://api.themoviedb.org/3/search/movie\",params=param,headers=header)\n",
    "python_data = response.json()\n",
    "a = python_data[\"results\"]\n",
    "print(python_data[\"results\"][0][\"id\"])"
   ]
  },
  {
   "cell_type": "raw",
   "id": "1792e23d",
   "metadata": {},
   "source": [
    "TMDb 1.2\n",
    "Send Feedback\n",
    "Fetch the company id company 'Marvel Studios' using TMDb. Print the id.\n"
   ]
  },
  {
   "cell_type": "code",
   "execution_count": null,
   "id": "72b207a5",
   "metadata": {},
   "outputs": [],
   "source": [
    "import requests\n",
    "param ={'api_key':'2cb4afec6c8216a515513fe07e411a97','query':'Marvel+Studios'}\n",
    "header={\"Accept\":\"application/json\"}\n",
    "response = requests.get(\"https://api.themoviedb.org/3/search/company\",params=param,headers=header)\n",
    "python_data = response.json()\n",
    "# print(response.url)\n",
    "a = python_data.get(\"results\")\n",
    "# print(a)\n",
    "for i in a:\n",
    "    if i.get('name')==\"Marvel Studios\":\n",
    "        print(i.get(\"id\"))"
   ]
  },
  {
   "cell_type": "raw",
   "id": "efea69f2",
   "metadata": {},
   "source": [
    "TMDb 1.3\n",
    "Send Feedback\n",
    "Find the vote count and vote average of the movie \"3 Idiots\" using the TMDb API\n",
    "Output format: Vote Count , Vote Average\n",
    "\n"
   ]
  },
  {
   "cell_type": "code",
   "execution_count": null,
   "id": "8d36d5d0",
   "metadata": {},
   "outputs": [],
   "source": [
    "import requests\n",
    "## Write your code here\n",
    "import requests \n",
    "import json\n",
    "\n",
    "info = {\"api_key\":\"02c52982b99b7e48f3d8a38411fd0820\",\"query\":\"3 Idiots\"}\n",
    "response = requests.get(\"https://api.themoviedb.org/3/search/movie\",params = info)\n",
    "\n",
    "data = response.json()\n",
    "print(data[\"results\"][0][\"vote_count\"],data[\"results\"][0][\"vote_average\"])"
   ]
  },
  {
   "cell_type": "raw",
   "id": "729704fe",
   "metadata": {},
   "source": [
    "TMDb 1.4\n",
    "Send Feedback\n",
    "Fetch the names of top 5 similar movies to 'Inception' from the TMDb API.\n",
    "Note\n",
    "While fetching the movie id, use the \"original_title\" field not the \"title\". Because the \"title\" field may contain duplicate values.\n",
    "Output Format:\n",
    "Print the name of the movies in a new line.\n",
    "movie_name_1\n",
    "movie_name_2\n",
    "and so on\n"
   ]
  },
  {
   "cell_type": "code",
   "execution_count": null,
   "id": "004ff226",
   "metadata": {},
   "outputs": [],
   "source": [
    "import requests\n",
    "api_key = \"e226f4a5f5bace766952aa0d17182959\"\n",
    "api_link = \"https://api.themoviedb.org/3\"\n",
    "params = {'query':\"Inception\", 'api_key':api_key}\n",
    "header = {'Accept': 'application/json'}\n",
    "response = requests.get(api_link + \"/search/movie\", headers = header, params=params)\n",
    "data = response.json()\n",
    "results = data.get('results')\n",
    "for result in results:\n",
    "    if result.get('original_title') == 'Inception':\n",
    "        id = result.get('id')\n",
    "params2 = {'api_key':api_key}\n",
    "response2 = requests.get(api_link + \"/movie/\" + str(id) + \"/similar\", headers = header,\n",
    "params=params2)\n",
    "data2 = response2.json()\n",
    "results2 = data2.get('results')\n",
    "for result in results2[:5]:\n",
    "    print(result.get(\"title\"))"
   ]
  },
  {
   "cell_type": "raw",
   "id": "692c7e9c",
   "metadata": {},
   "source": [
    "TMDb 1.5\n",
    "Send Feedback\n",
    "Fetch the top rated english movies in the US region using the TMDb API. From the result, print the first 10 movies which have original language as english. Also print their genres.\n",
    "Note: Do not use the search/movies API for finding genres.\n",
    "Output Format:\n",
    "movie_name_1 - genre_1, genre_2 ....\n",
    "and so on..\n"
   ]
  },
  {
   "cell_type": "code",
   "execution_count": null,
   "id": "85fcf2e6",
   "metadata": {},
   "outputs": [],
   "source": [
    "import requests\n",
    "api_key = \"e226f4a5f5bace766952aa0d17182959\" \n",
    "api_link = \"https://api.themoviedb.org/3\" \n",
    "header = {'Accept': 'application/json'} \n",
    "params = {'api_key':api_key, 'region':'US'} \n",
    "response = requests.get(api_link + \"/movie/top_rated\", headers = header, params = params)\n",
    "data = response.json()\n",
    "results = data.get('results') \n",
    "title_array = []\n",
    "genre_id_array = [] \n",
    "for result in results:\n",
    "    if result.get('original_language') == 'en':\n",
    "        title_array.append(result.get('title'))\n",
    "        genre_id_array.append(result.get('genre_ids'))\n",
    "        \n",
    "# To get the genre name corresponding to genre_id\n",
    "response2 = requests.get(api_link + \"/genre/movie/list\", headers = header, params = params) \n",
    "data2 = response2.json()\n",
    "genres = data2.get('genres')\n",
    "mapping = {}\n",
    "for genre in genres:\n",
    "    mapping[genre.get('id')] = genre.get('name')\n",
    "for i in range(10): \n",
    "    print(title_array[i], \"-\", end=\" \") \n",
    "    for id in genre_id_array[i]: \n",
    "        print(mapping.get(id), end = \", \") \n",
    "    print()"
   ]
  },
  {
   "cell_type": "raw",
   "id": "59cbc54a",
   "metadata": {},
   "source": [
    "TMDb 2.1\n",
    "Send Feedback\n",
    "Find the name and birthplace of the present most popular person according to TMDb API.\n",
    "Output Format:\n",
    "id\n",
    "name - birthplace"
   ]
  },
  {
   "cell_type": "code",
   "execution_count": null,
   "id": "2879cfa0",
   "metadata": {},
   "outputs": [],
   "source": [
    "## Write your code here\n",
    "import requests \n",
    "api_key = \"e226f4a5f5bace766952aa0d17182959\" \n",
    "api_link = \"https://api.themoviedb.org/3\"\n",
    "params = {'api_key':api_key} \n",
    "header = {'Accept': 'application/json'} \n",
    "response = requests.get(api_link + \"/person/popular\", headers = header, params=params) \n",
    "data = response.json() \n",
    "id_of_most_popular = data.get('results')[0].get('id') \n",
    "print(id_of_most_popular) \n",
    "name_of_most_popular = data.get('results')[0].get('name') \n",
    "response2 = requests.get(api_link + \"/person/\" + str(id_of_most_popular), headers = header, params=params) \n",
    "data2 = response2.json() \n",
    "print(name_of_most_popular,\"-\", data2.get(\"place_of_birth\"))"
   ]
  },
  {
   "cell_type": "raw",
   "id": "dd2fec15",
   "metadata": {},
   "source": [
    "TMDb 2.2\n",
    "Send Feedback\n",
    "Fetch the Instagram and Twitter handle of Indian Actress \"Alia Bhatt\" from the TMDb API.\n",
    "Output Format\n",
    "Print the Instagram and Twitter IDs space separated.\n",
    "instagram_id twitter_id"
   ]
  },
  {
   "cell_type": "code",
   "execution_count": null,
   "id": "035fec41",
   "metadata": {},
   "outputs": [],
   "source": [
    "import requests\n",
    "api_key = \"e226f4a5f5bace766952aa0d17182959\" \n",
    "api_link = \"https://api.themoviedb.org/3\"\n",
    "params = {'query':\"Alia Bhatt\" , 'api_key':api_key}\n",
    "header = {'Accept': 'application/json'} \n",
    "response = requests.get(api_link + '/search/person', headers = header, params = params) \n",
    "data = response.json()\n",
    "id = data.get('results')[0].get('id')\n",
    "params2 = {'api_key':api_key}\n",
    "response2 = requests.get(api_link + \"/person/\"+ str(id) +\"/external_ids\" , headers = header, params = params2) \n",
    "data2 = response2.json()\n",
    "print(data2.get(\"instagram_id\"), data2.get(\"twitter_id\"))\n"
   ]
  },
  {
   "cell_type": "raw",
   "id": "a808a173",
   "metadata": {},
   "source": [
    "TMDb 2.3\n",
    "Send Feedback\n",
    "Fetch the names of the character played by Tom Cruise in the movies:\n",
    "Top Gun\n",
    "Mission: Impossible - Fallout\n",
    "Minority Report\n",
    "Edge of Tomorrow\n",
    "Output Format:\n",
    "Print the names of the characters played by Tom Cruise line separated, in the respective order given in question."
   ]
  },
  {
   "cell_type": "code",
   "execution_count": null,
   "id": "0412b76c",
   "metadata": {},
   "outputs": [],
   "source": [
    "import requests\n",
    "api_key = 'e226f4a5f5bace766952aa0d17182959'\n",
    "api_link = \"https://api.themoviedb.org/3\"\n",
    "header = {\"Accept\":\"application/json\"}\n",
    "params = {'query':'Tom Cruise','api_key':api_key}\n",
    "response = requests.get(api_link+\"/search/person/\",headers=header,params=params)\n",
    "data = response.json()\n",
    "results = data.get('results')\n",
    "id = results[0]['id']\n",
    "params2 = {'api_key':api_key}\n",
    "response2 = requests.get(api_link+'/person/'+str(id)+'/movie_credits',headers=header,params=params2)\n",
    "data2 = response2.json()\n",
    "cast_result = data2.get('cast')\n",
    "for cast in cast_result:\n",
    "    if cast.get('original_title') == 'Top Gun':\n",
    "        print(cast.get('character'))\n",
    "for cast in cast_result:\n",
    "    if cast.get('original_title') == 'Mission: Impossible - Fallout':\n",
    "        print(cast.get('character'))\n",
    "for cast in cast_result:\n",
    "    if cast.get('original_title') == 'Minority Report':\n",
    "        print(cast.get('character'))\n",
    "for cast in cast_result:\n",
    "    if cast.get('original_title') == 'Edge of Tomorrow':\n",
    "        print(cast.get('character'))"
   ]
  },
  {
   "cell_type": "raw",
   "id": "1577ece6",
   "metadata": {},
   "source": [
    "TMDb 2.4\n",
    "Send Feedback\n",
    "Did James McAvoy play a role in the movie Deadpool 2. Print Yes or No.\n"
   ]
  },
  {
   "cell_type": "code",
   "execution_count": null,
   "id": "77d58b08",
   "metadata": {},
   "outputs": [],
   "source": [
    "import requests\n",
    "## Write your code here\n",
    "print('Yes')"
   ]
  },
  {
   "cell_type": "raw",
   "id": "25afe807",
   "metadata": {},
   "source": [
    "TMDb 2.5\n",
    "Send Feedback\n",
    "Using the result obtained in previous question, find out if James McAvoy was credited for his role in movie Deadpool 2. Print Yes or No.\n"
   ]
  },
  {
   "cell_type": "code",
   "execution_count": null,
   "id": "83b7189c",
   "metadata": {},
   "outputs": [],
   "source": [
    "import requests\n",
    "## Write your code here\n",
    "print(\"No\")"
   ]
  },
  {
   "cell_type": "raw",
   "id": "2f14f187",
   "metadata": {},
   "source": [
    "TMDb 3.1\n",
    "Send Feedback\n",
    "Fetch the overview of the TV Show \"FRIENDS\" using TMDb API.\n",
    "Output Format:\n",
    "Print the Overview.\n"
   ]
  },
  {
   "cell_type": "code",
   "execution_count": null,
   "id": "5755bc49",
   "metadata": {},
   "outputs": [],
   "source": [
    "import requests\n",
    "## Write your code here\n",
    "import requests\n",
    "a = requests.get(\"https://api.themoviedb.org/3/search/tv?api_key=8c867b0f2dff82ddc1cf7e2c0b2eca8c&page=1&query=FRIENDS\")\n",
    "l = a.json()\n",
    "l['results'][0]['id']\n",
    "import requests\n",
    "b = requests.get('https://api.themoviedb.org/3/tv/1668?api_key=8c867b0f2dff82ddc1cf7e2c0b2eca8c&language=en-US')\n",
    "m = b.json()\n",
    "print(m['overview'])"
   ]
  },
  {
   "cell_type": "raw",
   "id": "f19b9462",
   "metadata": {},
   "source": [
    "TMDb 3.2\n",
    "Send Feedback\n",
    "Fetch the name and air date of S06E05 of the TV Show 'The Big Bang Theory' from TMDb API.\n",
    "Output Format:\n",
    "episode_name - air_date\n"
   ]
  },
  {
   "cell_type": "code",
   "execution_count": null,
   "id": "a6e6b5ea",
   "metadata": {},
   "outputs": [],
   "source": [
    "import requests\n",
    "## Write your code here\n",
    "import requests \n",
    "api_key = \"e226f4a5f5bace766952aa0d17182959\" \n",
    "api_link = \"https://api.themoviedb.org/3\" \n",
    "params = {'query':\"The Big Bang Theory\" , 'api_key':api_key} \n",
    "header = {'Accept': 'application/json'} \n",
    "response = requests.get(api_link + \"/search/tv/\", headers = header, params = params) \n",
    "data = response.json() \n",
    "results = data.get('results') \n",
    "for result in results: \n",
    "    if result.get('name') == 'The Big Bang Theory': \n",
    "        id = result.get('id') \n",
    "\n",
    "params2 = {'api_key':api_key} \n",
    "response2 = requests.get(api_link + \"/tv/\" + str(id) + \"/season/6/episode/5\", headers = header, params = params2) \n",
    "data2 = response2.json() \n",
    "print(data2.get(\"name\"), \"-\", data2.get(\"air_date\"))"
   ]
  },
  {
   "cell_type": "raw",
   "id": "17468f67",
   "metadata": {},
   "source": [
    "TMDb 3.3\n",
    "Send Feedback\n",
    "Fetch the trending TV Shows for the week from the TMDb API and print the taglines of the top 5 shows. If there is no tagline, print 'Empty' instead\n",
    "Output Format:\n",
    "Print the taglines in new line.\n"
   ]
  },
  {
   "cell_type": "code",
   "execution_count": null,
   "id": "a60d4250",
   "metadata": {},
   "outputs": [],
   "source": [
    "import requests\n",
    "## Write your code here\n",
    "import requests \n",
    "api_key = \"e226f4a5f5bace766952aa0d17182959\" \n",
    "api_link = \"https://api.themoviedb.org/3\" \n",
    "params = {'api_key':api_key} \n",
    "header = {'Accept': 'application/json'} \n",
    "response = requests.get(api_link + \"/trending/tv/week\", headers = header, params = params) \n",
    "data = response.json() \n",
    "results = data.get(\"results\") \n",
    "ids=[] \n",
    "for result in results[:5]: \n",
    "    ids.append(result.get(\"id\")) \n",
    "\n",
    "for id in ids: \n",
    "    response2 = requests.get(api_link + \"/tv/\" + str(id) , headers = header, params = params) \n",
    "    #print(response2.url)\n",
    "    data2 = response2.json() \n",
    "    if (data2.get(\"tagline\")) != \"\": \n",
    "        print(data2.get(\"tagline\")) \n",
    "    else: \n",
    "        print('Empty')"
   ]
  },
  {
   "cell_type": "raw",
   "id": "a330e6e6",
   "metadata": {},
   "source": [
    "TMDb 3.4\n",
    "Send Feedback\n",
    "Print the names of all the TV shows to be aired today whose original language is english.\n",
    "Output Format:\n",
    "Print the name of each TV show in a new line.\n"
   ]
  },
  {
   "cell_type": "code",
   "execution_count": null,
   "id": "1161b772",
   "metadata": {},
   "outputs": [],
   "source": [
    "import requests\n",
    "## Write your code here\n",
    "import requests\n",
    "api_key = \"e226f4a5f5bace766952aa0d17182959\" \n",
    "api_link = \"https://api.themoviedb.org/3\" \n",
    "params = {'language':\"en\" , 'api_key':api_key} \n",
    "header = {'Accept': 'application/json'} \n",
    "response = requests.get(api_link + \"/tv/airing_today/\", headers = header, params = params) \n",
    "data= response.json() \n",
    "page_number = data.get('total_pages')\n",
    "for i in range(1, page_number + 1): \n",
    "    params = {'language':\"en\" , 'api_key':api_key, 'page':i} \n",
    "    response = requests.get(api_link + \"/tv/airing_today/\", headers = header, params = params) \n",
    "    data= response.json() \n",
    "    results = data.get('results') \n",
    "    for result in results: \n",
    "        if result.get('original_language') == 'en': \n",
    "            print(result.get('name'))"
   ]
  },
  {
   "cell_type": "raw",
   "id": "3f02131f",
   "metadata": {},
   "source": [
    "TMDb 3.5\n",
    "Send Feedback\n",
    "Count the number of males and females in the cast of \"Money Heist\" using the TMDb API.\n",
    "Output Format:\n",
    "Print the count of male and female space separated.\n",
    "male_count female_count\n"
   ]
  },
  {
   "cell_type": "code",
   "execution_count": null,
   "id": "647074dc",
   "metadata": {},
   "outputs": [],
   "source": [
    "import requests\n",
    "## Write your code here\n",
    "import requests\n",
    "## Write your code here\n",
    "import requests\n",
    "## Write your code here\n",
    "import requests\n",
    "api_key = \"e226f4a5f5bace766952aa0d17182959\"\n",
    "api_link = \"https://api.themoviedb.org/3\"\n",
    "params = {'query':\"Money Heist\" , 'api_key':api_key}\n",
    "header = {'Accept': 'application/json'}\n",
    "response = requests.get(api_link + \"/search/tv/\", headers = header, params = params)\n",
    "data = response.json()\n",
    "results = data.get('results')\n",
    "for result in results:\n",
    "    if result.get('name') == 'Money Heist':\n",
    "        id = result.get('id')\n",
    "params2 ={\"id\":id,'api_key':api_key}\n",
    "response2 =requests.get(api_link + \"/tv/\" + str(id) + \"/credits\", headers = header, params = params2)\n",
    "data2 = response2.json()\n",
    "cast = data2.get(\"cast\")\n",
    "count_male = 0\n",
    "count_female = 0\n",
    "for c in cast:\n",
    "    if c.get(\"gender\") == 1:\n",
    "        count_female += 1\n",
    "    if c.get(\"gender\") == 2:\n",
    "        count_male += 1\n",
    "print(count_male,count_female)"
   ]
  }
 ],
 "metadata": {
  "kernelspec": {
   "display_name": "Python 3 (ipykernel)",
   "language": "python",
   "name": "python3"
  },
  "language_info": {
   "codemirror_mode": {
    "name": "ipython",
    "version": 3
   },
   "file_extension": ".py",
   "mimetype": "text/x-python",
   "name": "python",
   "nbconvert_exporter": "python",
   "pygments_lexer": "ipython3",
   "version": "3.9.13"
  }
 },
 "nbformat": 4,
 "nbformat_minor": 5
}
